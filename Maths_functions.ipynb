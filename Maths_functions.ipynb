{
  "cells": [
    {
      "cell_type": "markdown",
      "metadata": {
        "id": "view-in-github",
        "colab_type": "text"
      },
      "source": [
        "<a href=\"https://colab.research.google.com/github/SteveR-Ncl/maths-colab-notebooks/blob/main/Maths_functions.ipynb\" target=\"_parent\"><img src=\"https://colab.research.google.com/assets/colab-badge.svg\" alt=\"Open In Colab\"/></a>"
      ]
    },
    {
      "cell_type": "markdown",
      "metadata": {
        "id": "YbWKqy-Jaq28"
      },
      "source": [
        "# Maths for Computing: Fundamentals\n",
        "\n",
        "Some example graphs for CSC1031\n",
        "\n"
      ]
    },
    {
      "cell_type": "markdown",
      "source": [
        "Begin with import of libraries"
      ],
      "metadata": {
        "id": "MaMBOGf1qvov"
      }
    },
    {
      "cell_type": "code",
      "execution_count": null,
      "metadata": {
        "id": "ELYbAMKlBsgC"
      },
      "outputs": [],
      "source": [
        "import matplotlib as mpl\n",
        "import matplotlib.pyplot as plt\n",
        "import numpy as np\n",
        "import math\n"
      ]
    },
    {
      "cell_type": "markdown",
      "source": [
        "# Example functions and their graphs\n"
      ],
      "metadata": {
        "id": "HFZWcqXjslse"
      }
    },
    {
      "cell_type": "markdown",
      "metadata": {
        "id": "FvyLZf5ZiDD1"
      },
      "source": [
        "## $y = x^2$\n",
        "An example graph of $y=x^2$."
      ]
    },
    {
      "cell_type": "code",
      "execution_count": null,
      "metadata": {
        "id": "NooZofvdCa_R"
      },
      "outputs": [],
      "source": [
        "x=np.linspace(-10,10,100)\n",
        "plt.plot(x, x**2)\n",
        "plt.grid()\n",
        "plt.title(\"$y=x^2$\")\n"
      ]
    },
    {
      "cell_type": "markdown",
      "source": [
        "## $y=x+1$"
      ],
      "metadata": {
        "id": "8Hka09s4NoyT"
      }
    },
    {
      "cell_type": "code",
      "execution_count": null,
      "metadata": {
        "id": "9Q1vLWBXNmsB"
      },
      "outputs": [],
      "source": [
        "x=np.linspace(-4,4)\n",
        "plt.plot(x, x+1)\n",
        "plt.grid()\n",
        "plt.title(\"$y=x+1$\")\n"
      ]
    },
    {
      "cell_type": "markdown",
      "source": [
        "## $y = \\sqrt{x}+1$\n"
      ],
      "metadata": {
        "id": "UJWQoIQIs52A"
      }
    },
    {
      "cell_type": "code",
      "source": [
        "x = np.linspace(0,50)\n",
        "y = np.sqrt(x)+1\n",
        "plt.plot(x,y)\n",
        "plt.grid()\n",
        "plt.title(\"$y = \\sqrt{x}+1$\")"
      ],
      "metadata": {
        "id": "M2Gtwbr4TC6E"
      },
      "execution_count": null,
      "outputs": []
    },
    {
      "cell_type": "markdown",
      "metadata": {
        "id": "VhwNK4NVf-RG"
      },
      "source": [
        "## Domain and range\n",
        "Square root inverse, $y=1/\\sqrt(x+1)$\n",
        "\n",
        "Domain for this function is $(-1,\\infty ] $\n",
        "\n",
        "To avoid overflow in drawing the graph, we specify `endpoint=False` and write the interval as `5, -1` so that the endpoint is applied to `-1`."
      ]
    },
    {
      "cell_type": "code",
      "source": [
        "x = np.linspace(5,-1,endpoint=False)\n",
        "y = 1/np.sqrt(x+1)\n",
        "plt.plot(x,y)\n",
        "plt.grid()\n",
        "plt.title(\"$y = 1/\\sqrt{x+1}$\")"
      ],
      "metadata": {
        "id": "GAKlSzyOQnmd"
      },
      "execution_count": null,
      "outputs": []
    },
    {
      "cell_type": "code",
      "execution_count": null,
      "metadata": {
        "id": "uWt5kSEXpZ2E"
      },
      "outputs": [],
      "source": [
        "x=np.linspace(-2,3,6)\n",
        "y=1+x**2\n",
        "x1=np.linspace(-2,3)\n",
        "y1=1+x1**2\n",
        "plt.plot(x1,y1)\n",
        "plt.plot(x,y,'o')\n",
        "plt.grid()\n",
        "plt.title(\"Sketched Graph $y=1+x^2$\")"
      ]
    },
    {
      "cell_type": "markdown",
      "source": [
        "\n",
        "## Absolute value $y = |x|$\n",
        "\n",
        "  $$\n",
        "  |x| = \\left\\{\n",
        "  \\begin{array}\\\\\n",
        "  x & \\mbox{if } 0 \\le x < \\infty \\\\\n",
        "  -x & \\mbox{if} -\\infty < x < 0\n",
        "  \\end{array}\n",
        "  \\right. \n",
        "  $$\n",
        "\n",
        " Graph of $y=|x|$"
      ],
      "metadata": {
        "id": "7-cNVaDJjUqW"
      }
    },
    {
      "cell_type": "code",
      "source": [
        "x=np.linspace(-50,50,500)\n",
        "y=abs(x)\n",
        "plt.plot(x,y)\n",
        "plt.title(\"Modulus\")"
      ],
      "metadata": {
        "id": "GCsDJ826nRuq"
      },
      "execution_count": null,
      "outputs": []
    },
    {
      "cell_type": "markdown",
      "source": [
        "# Quadratic equations\n"
      ],
      "metadata": {
        "id": "qQaLE34dvlOG"
      }
    },
    {
      "cell_type": "markdown",
      "source": [
        "## Solving a quadtratic \n",
        "\n",
        "Height of a ball is given by $h(t) = 15t-5t^2$\n",
        "\n",
        "At what time t is the height = 10?\n"
      ],
      "metadata": {
        "id": "Rt9W8CSEwrss"
      }
    },
    {
      "cell_type": "code",
      "source": [
        "t=np.linspace(0,3)\n",
        "h=15*t - 5*t**2\n",
        "plt.plot(t,h)\n",
        "plt.grid()\n",
        "t1 = np.linspace(1,2,2)\n",
        "h1 = 15*t1 - 5*t1**2\n",
        "plt.plot(t1,h1,\"o\")\n",
        "plt.title(\"$h(t) = 15t - 5t^2$\")\n",
        "\n"
      ],
      "metadata": {
        "colab": {
          "base_uri": "https://localhost:8080/",
          "height": 303
        },
        "id": "gGnySRVwv0rJ",
        "outputId": "c941df80-afd0-402c-db08-727489cd3faf"
      },
      "execution_count": null,
      "outputs": [
        {
          "output_type": "execute_result",
          "data": {
            "text/plain": [
              "Text(0.5, 1.0, '$h(t) = 15t - 5t^2$')"
            ]
          },
          "metadata": {},
          "execution_count": 12
        },
        {
          "output_type": "display_data",
          "data": {
            "text/plain": [
              "<Figure size 432x288 with 1 Axes>"
            ],
            "image/png": "[encoded data removed]"
          },
          "metadata": {
            "needs_background": "light"
          }
        }
      ]
    },
    {
      "cell_type": "markdown",
      "source": [
        "# Simultaneous linear equations\n",
        "\n",
        "Where do these two straight lines cross?\n",
        "\n",
        "$$\n",
        "3x-y=3\\\\\n",
        "5x+3y=6\n",
        "$$"
      ],
      "metadata": {
        "id": "zAgX6Uf9zpHI"
      }
    },
    {
      "cell_type": "code",
      "source": [
        "x=np.linspace(0.5,1.25)\n",
        "y1=3*x-3\n",
        "y2=(6-5*x)/3\n",
        "plt.plot(x,y1)\n",
        "plt.plot(x,y2)\n",
        "plt.grid()\n",
        "\n",
        "plt.plot(15/14,3/14,\"o\")\n",
        "\n"
      ],
      "metadata": {
        "colab": {
          "base_uri": "https://localhost:8080/",
          "height": 283
        },
        "id": "oZA9DQYQz9rc",
        "outputId": "3490c3e4-7622-4e2b-a985-104b23f263a1"
      },
      "execution_count": null,
      "outputs": [
        {
          "output_type": "execute_result",
          "data": {
            "text/plain": [
              "[<matplotlib.lines.Line2D at 0x7fd6ccc01a00>]"
            ]
          },
          "metadata": {},
          "execution_count": 18
        },
        {
          "output_type": "display_data",
          "data": {
            "text/plain": [
              "<Figure size 432x288 with 1 Axes>"
            ],
            "image/png": "[encoded data removed]"
          },
          "metadata": {
            "needs_background": "light"
          }
        }
      ]
    }
  ],
  "metadata": {
    "colab": {
      "provenance": [],
      "toc_visible": true,
      "authorship_tag": "ABX9TyPrFTVxfU3yDebYKEFIvOHj",
      "include_colab_link": true
    },
    "kernelspec": {
      "display_name": "Python 3 (ipykernel)",
      "language": "python",
      "name": "python3"
    },
    "language_info": {
      "codemirror_mode": {
        "name": "ipython",
        "version": 3
      },
      "file_extension": ".py",
      "mimetype": "text/x-python",
      "name": "python",
      "nbconvert_exporter": "python",
      "pygments_lexer": "ipython3",
      "version": "3.8.13"
    }
  },
  "nbformat": 4,
  "nbformat_minor": 0
}