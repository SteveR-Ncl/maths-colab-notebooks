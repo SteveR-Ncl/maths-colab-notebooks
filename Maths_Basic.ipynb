{
  "cells": [
    {
      "cell_type": "markdown",
      "metadata": {
        "id": "view-in-github",
        "colab_type": "text"
      },
      "source": [
        "<a href=\"https://colab.research.google.com/github/SteveR-Ncl/maths-colab-notebooks/blob/main/Maths_Basic.ipynb\" target=\"_parent\"><img src=\"https://colab.research.google.com/assets/colab-badge.svg\" alt=\"Open In Colab\"/></a>"
      ]
    },
    {
      "cell_type": "markdown",
      "id": "7010c440-fc44-407a-8314-7a800c298c48",
      "metadata": {
        "id": "7010c440-fc44-407a-8314-7a800c298c48"
      },
      "source": [
        "# Maths - Basic\n",
        "Including prime factorisation, gcd/lcm\n",
        "\n",
        "Examples using python Sympy library http://sympy.org/en/index.html\n",
        "\n",
        "https://colab.research.google.com/github/jrjohansson/scientific-python-lectures/blob/master/Lecture-5-Sympy.ipynb\n"
      ]
    },
    {
      "cell_type": "code",
      "execution_count": 2,
      "id": "739ab961-6267-4eba-87a9-e45a6aab44ba",
      "metadata": {
        "id": "739ab961-6267-4eba-87a9-e45a6aab44ba"
      },
      "outputs": [],
      "source": [
        "import sympy\n",
        "from sympy import *"
      ]
    },
    {
      "cell_type": "markdown",
      "source": [
        "Just trying out a spot of computer algebra..."
      ],
      "metadata": {
        "id": "MRKxr_Aaqbyd"
      },
      "id": "MRKxr_Aaqbyd"
    },
    {
      "cell_type": "code",
      "execution_count": null,
      "id": "f43c0ace-7877-4eaf-8514-b26078e0b968",
      "metadata": {
        "colab": {
          "base_uri": "https://localhost:8080/",
          "height": 56
        },
        "id": "f43c0ace-7877-4eaf-8514-b26078e0b968",
        "outputId": "1cc175af-2293-4390-b7e5-b8d2a26a5992"
      },
      "outputs": [
        {
          "output_type": "execute_result",
          "data": {
            "text/plain": [
              "Eq(Integral(exp(x)*cos(x), x), exp(x)*sin(x)/2 + exp(x)*cos(x)/2)"
            ],
            "text/latex": "$\\displaystyle \\int e^{x} \\cos{\\left(x \\right)}\\, dx = \\frac{e^{x} \\sin{\\left(x \\right)}}{2} + \\frac{e^{x} \\cos{\\left(x \\right)}}{2}$"
          },
          "metadata": {},
          "execution_count": 3
        }
      ],
      "source": [
        "x = symbols('x')\n",
        "a = Integral(cos(x)*exp(x),x)\n",
        "Eq(a, a.doit())"
      ]
    },
    {
      "cell_type": "markdown",
      "source": [
        "## Factorisation\n",
        "Using sympy to list prime factors"
      ],
      "metadata": {
        "id": "gKz1BBq-qhny"
      },
      "id": "gKz1BBq-qhny"
    },
    {
      "cell_type": "code",
      "execution_count": null,
      "id": "79e56ec1-840b-41ea-ae7b-744b73b3aad3",
      "metadata": {
        "colab": {
          "base_uri": "https://localhost:8080/"
        },
        "id": "79e56ec1-840b-41ea-ae7b-744b73b3aad3",
        "outputId": "0e191912-dd5f-4c67-943e-77e8cda5755c"
      },
      "outputs": [
        {
          "output_type": "stream",
          "name": "stdout",
          "text": [
            "Prime factors of 24 are [2, 3]\n",
            "Prime factors of 36 are [2, 3]\n",
            "Prime factors of 32 are [2]\n",
            "Prime factors of 47 are [47]\n"
          ]
        }
      ],
      "source": [
        "examples = [24,32,36,47]\n",
        "for i in examples:\n",
        "  print(\"Prime factors of {} are {}\".format(i,primefactors(i)))"
      ]
    },
    {
      "cell_type": "markdown",
      "source": [
        "Factors and multiplicities"
      ],
      "metadata": {
        "id": "sL39AzHuqr54"
      },
      "id": "sL39AzHuqr54"
    },
    {
      "cell_type": "code",
      "source": [
        "examples = [24,32,36,47]\n",
        "print(\"Prime factors and multiplicities:\")\n",
        "for i in examples:\n",
        "  print(\"{} -> {}\".format(i,factorint(i)))"
      ],
      "metadata": {
        "colab": {
          "base_uri": "https://localhost:8080/"
        },
        "id": "CUpJPazBqvtR",
        "outputId": "6539c667-4efd-4b54-a16f-cfcd65b2da18"
      },
      "id": "CUpJPazBqvtR",
      "execution_count": null,
      "outputs": [
        {
          "output_type": "stream",
          "name": "stdout",
          "text": [
            "Prime factors and multiplicities:\n",
            "24 -> {2: 3, 3: 1}\n",
            "32 -> {2: 5}\n",
            "36 -> {2: 2, 3: 2}\n",
            "47 -> {47: 1}\n"
          ]
        }
      ]
    },
    {
      "cell_type": "markdown",
      "source": [
        "## Sieve of Eratosthenes\n",
        "\n",
        "Algorithm: cross of multiples of $k$ starting from $k^2$, until $k^2 \\ge N$"
      ],
      "metadata": {
        "id": "VaMSlN3ZsZTa"
      },
      "id": "VaMSlN3ZsZTa"
    },
    {
      "cell_type": "code",
      "source": [
        "N = 120\n",
        "lim = sqrt(N) \n",
        "sieve = list(range(2,N))\n",
        "k = sieve[0]\n",
        "while k <= lim:\n",
        "  new_sieve=[i for i in sieve if i < k*k or i%k != 0]\n",
        "  sieve = new_sieve\n",
        "  print(\"k = {}: {}\".format(k,sieve))\n",
        "  k = next(i for i in sieve if i > k)"
      ],
      "metadata": {
        "colab": {
          "base_uri": "https://localhost:8080/"
        },
        "id": "J5XZw52WtHPg",
        "outputId": "62599c84-aa97-4104-d025-49843ec21f5e"
      },
      "id": "J5XZw52WtHPg",
      "execution_count": null,
      "outputs": [
        {
          "output_type": "stream",
          "name": "stdout",
          "text": [
            "k = 2: [2, 3, 5, 7, 9, 11, 13, 15, 17, 19, 21, 23, 25, 27, 29, 31, 33, 35, 37, 39, 41, 43, 45, 47, 49, 51, 53, 55, 57, 59, 61, 63, 65, 67, 69, 71, 73, 75, 77, 79, 81, 83, 85, 87, 89, 91, 93, 95, 97, 99, 101, 103, 105, 107, 109, 111, 113, 115, 117, 119]\n",
            "k = 3: [2, 3, 5, 7, 11, 13, 17, 19, 23, 25, 29, 31, 35, 37, 41, 43, 47, 49, 53, 55, 59, 61, 65, 67, 71, 73, 77, 79, 83, 85, 89, 91, 95, 97, 101, 103, 107, 109, 113, 115, 119]\n",
            "k = 5: [2, 3, 5, 7, 11, 13, 17, 19, 23, 29, 31, 37, 41, 43, 47, 49, 53, 59, 61, 67, 71, 73, 77, 79, 83, 89, 91, 97, 101, 103, 107, 109, 113, 119]\n",
            "k = 7: [2, 3, 5, 7, 11, 13, 17, 19, 23, 29, 31, 37, 41, 43, 47, 53, 59, 61, 67, 71, 73, 79, 83, 89, 97, 101, 103, 107, 109, 113]\n"
          ]
        }
      ]
    },
    {
      "cell_type": "markdown",
      "source": [
        "## HCF and LCM algorithms\n",
        "\n",
        "Version 0, very inefficient. \n",
        "Timed using %%timeit, 100000 loops, best of 5: 2.85 µs per loop"
      ],
      "metadata": {
        "id": "AbnLQ1Ud4CYJ"
      },
      "id": "AbnLQ1Ud4CYJ"
    },
    {
      "cell_type": "code",
      "source": [
        "def hcf0(x,y):\n",
        "  if (x==0):\n",
        "    return y\n",
        "  elif (y==0):\n",
        "    return x\n",
        "  elif x > y:\n",
        "    return hcf0((x-y),y)\n",
        "  else:\n",
        "    return hcf0(x,(y-x))\n"
      ],
      "metadata": {
        "id": "jVBRjL_81hfF"
      },
      "id": "jVBRjL_81hfF",
      "execution_count": null,
      "outputs": []
    },
    {
      "cell_type": "code",
      "source": [
        "## %%timeit   ## uncomment to get timing info\n",
        "res=hcf0(24,78)"
      ],
      "metadata": {
        "colab": {
          "base_uri": "https://localhost:8080/"
        },
        "id": "y8Fcrh8YFxCk",
        "outputId": "f1cfd89b-4448-4286-dd9d-66c7ce1e19b0"
      },
      "id": "y8Fcrh8YFxCk",
      "execution_count": 50,
      "outputs": [
        {
          "output_type": "stream",
          "name": "stdout",
          "text": [
            "100000 loops, best of 5: 2.85 µs per loop\n"
          ]
        }
      ]
    },
    {
      "cell_type": "markdown",
      "source": [
        "Version 1, using remainder of division: 1000000 loops, best of 5: 962 ns per loop\n",
        "(ie 962 ns vs 2850 ns)\n"
      ],
      "metadata": {
        "id": "486DeUgc4RJe"
      },
      "id": "486DeUgc4RJe"
    },
    {
      "cell_type": "code",
      "source": [
        "def hcf1(x,y):\n",
        "  if(x==0):\n",
        "    return y\n",
        "  elif(y==0):\n",
        "    return x\n",
        "  elif(x > y):\n",
        "    return hcf1(x % y,y)\n",
        "  else:\n",
        "    return hcf1(x, y%x)\n",
        "\n",
        "print(hcf1(24,78))"
      ],
      "metadata": {
        "colab": {
          "base_uri": "https://localhost:8080/"
        },
        "id": "SleS8drR4XQU",
        "outputId": "c27fc0c4-c3b7-497b-c928-3b0d492f29a7"
      },
      "id": "SleS8drR4XQU",
      "execution_count": null,
      "outputs": [
        {
          "output_type": "stream",
          "name": "stdout",
          "text": [
            "6\n"
          ]
        }
      ]
    },
    {
      "cell_type": "code",
      "source": [
        "## %%timeit   ## uncomment to get timing info\n",
        "res=hcf1(24,78)"
      ],
      "metadata": {
        "colab": {
          "base_uri": "https://localhost:8080/"
        },
        "outputId": "7e87c026-394b-4595-db6c-add0c249318d",
        "id": "nS-GoriRGrUL"
      },
      "execution_count": 51,
      "outputs": [
        {
          "output_type": "stream",
          "name": "stdout",
          "text": [
            "1000000 loops, best of 5: 962 ns per loop\n"
          ]
        }
      ],
      "id": "nS-GoriRGrUL"
    },
    {
      "cell_type": "markdown",
      "source": [
        "LCM using HCF version 1"
      ],
      "metadata": {
        "id": "cnBMMK0sEFve"
      },
      "id": "cnBMMK0sEFve"
    },
    {
      "cell_type": "code",
      "source": [
        "def lcm(x,y):\n",
        "  return((x*y)/hcf1(x,y))\n",
        "\n",
        "\n",
        "print(lcm(12,15))"
      ],
      "metadata": {
        "colab": {
          "base_uri": "https://localhost:8080/"
        },
        "id": "NFp4gMlwEBfN",
        "outputId": "ee320ae3-0e51-4a2e-e123-1e35299282ae"
      },
      "id": "NFp4gMlwEBfN",
      "execution_count": 46,
      "outputs": [
        {
          "output_type": "stream",
          "name": "stdout",
          "text": [
            "60.0\n"
          ]
        }
      ]
    },
    {
      "cell_type": "markdown",
      "source": [
        "## Simplifying expressions"
      ],
      "metadata": {
        "id": "GasSC5TiVlJD"
      },
      "id": "GasSC5TiVlJD"
    },
    {
      "cell_type": "code",
      "source": [
        "r1=Rational(1,2)\n",
        "r2=Rational(3,5)\n",
        "print(\"{} + {} = {}\".format(r1,r2,r1+r2))\n"
      ],
      "metadata": {
        "colab": {
          "base_uri": "https://localhost:8080/"
        },
        "id": "isnCCl4VrqN5",
        "outputId": "dac58b26-d777-4349-e87d-7979ea239b2a"
      },
      "id": "isnCCl4VrqN5",
      "execution_count": 4,
      "outputs": [
        {
          "output_type": "stream",
          "name": "stdout",
          "text": [
            "1/2 + 3/5 = 11/10\n",
            "5/6\n"
          ]
        }
      ]
    }
  ],
  "metadata": {
    "kernelspec": {
      "display_name": "Python 3 (ipykernel)",
      "language": "python",
      "name": "python3"
    },
    "language_info": {
      "codemirror_mode": {
        "name": "ipython",
        "version": 3
      },
      "file_extension": ".py",
      "mimetype": "text/x-python",
      "name": "python",
      "nbconvert_exporter": "python",
      "pygments_lexer": "ipython3",
      "version": "3.8.13"
    },
    "colab": {
      "name": "Maths-Basic.ipynb",
      "provenance": [],
      "collapsed_sections": [],
      "include_colab_link": true
    }
  },
  "nbformat": 4,
  "nbformat_minor": 5
}