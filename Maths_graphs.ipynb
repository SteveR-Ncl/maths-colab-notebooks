{
  "nbformat": 4,
  "nbformat_minor": 0,
  "metadata": {
    "colab": {
      "name": "Maths-graphs.ipynb",
      "provenance": [],
      "collapsed_sections": [],
      "authorship_tag": "ABX9TyOZJILEBkTYQ1YHvOnoVrY/",
      "include_colab_link": true
    },
    "kernelspec": {
      "name": "python3",
      "display_name": "Python 3"
    },
    "language_info": {
      "name": "python"
    }
  },
  "cells": [
    {
      "cell_type": "markdown",
      "metadata": {
        "id": "view-in-github",
        "colab_type": "text"
      },
      "source": [
        "<a href=\"https://colab.research.google.com/github/SteveR-Ncl/maths-colab-notebooks/blob/main/Maths_graphs.ipynb\" target=\"_parent\"><img src=\"https://colab.research.google.com/assets/colab-badge.svg\" alt=\"Open In Colab\"/></a>"
      ]
    },
    {
      "cell_type": "markdown",
      "source": [
        "# Graphs"
      ],
      "metadata": {
        "id": "7fgC1nyBcnEH"
      }
    },
    {
      "cell_type": "code",
      "source": [
        "!apt install libgraphviz-dev\n",
        "!pip install pygraphviz"
      ],
      "metadata": {
        "id": "jaIfLOKgjJg4"
      },
      "execution_count": null,
      "outputs": []
    },
    {
      "cell_type": "code",
      "execution_count": null,
      "metadata": {
        "id": "ELYbAMKlBsgC"
      },
      "outputs": [],
      "source": [
        "import matplotlib as mpl\n",
        "import matplotlib.pyplot as plt\n",
        "import numpy as np\n",
        "import networkx as nx\n",
        "import graphviz\n"
      ]
    },
    {
      "cell_type": "markdown",
      "metadata": {
        "id": "xKqC4BJNledL"
      },
      "source": [
        "## Sketch a directed graph:\n",
        "\n",
        "$ N=(1,2,3,4,5) $\n",
        "\n",
        "$ E=\\{(1,2) ,(1,3),(3,3),(4,2),(5,4),(4,3)\\} $\n",
        "\n"
      ]
    },
    {
      "cell_type": "markdown",
      "metadata": {
        "id": "5HUQUIlAk1Uz"
      },
      "source": [
        "Set up node options first"
      ]
    },
    {
      "cell_type": "code",
      "execution_count": null,
      "metadata": {
        "id": "D5qj9XwSk_H2"
      },
      "outputs": [],
      "source": [
        "options = {\n",
        "    \"font_size\": 16,\n",
        "    \"node_size\": 600,\n",
        "    \"node_color\": \"white\",\n",
        "    \"edgecolors\": \"black\",\n",
        "    \"linewidths\": 2,\n",
        "    \"width\": 2,\n",
        "\n",
        "}"
      ]
    },
    {
      "cell_type": "code",
      "execution_count": null,
      "metadata": {
        "colab": {
          "base_uri": "https://localhost:8080/",
          "height": 319
        },
        "id": "YFCg308UpcZS",
        "outputId": "893dcf97-4a9d-432f-fd06-25bcd054caab"
      },
      "outputs": [
        {
          "output_type": "display_data",
          "data": {
            "text/plain": [
              "<Figure size 432x288 with 1 Axes>"
            ],
            "image/png": "[encoded data removed]"
          },
          "metadata": {}
        }
      ],
      "source": [
        "G=nx.DiGraph()\n",
        "G.add_edges_from([(1,2),(1,3),(3,3),(4,2),(5,4),(4,3)])\n",
        "nx.draw_planar (G, with_labels=True, **options)\n",
        "\n",
        "# Set margins for the axes so that nodes aren't clipped\n",
        "ax = plt.gca()\n",
        "ax.margins(0.20)\n",
        "plt.axis(\"off\")\n",
        "plt.show()\n",
        "\n",
        "# From https://networkx.org/documentation/stable/auto_examples/basic/plot_simple_graph.html"
      ]
    },
    {
      "cell_type": "code",
      "execution_count": null,
      "metadata": {
        "colab": {
          "base_uri": "https://localhost:8080/"
        },
        "id": "9giHFP__nfVf",
        "outputId": "004c97e0-171b-4bf7-8e4b-82a8f4037238"
      },
      "outputs": [
        {
          "output_type": "stream",
          "name": "stdout",
          "text": [
            "Degree is [(1, 2), (2, 2), (3, 4), (4, 3), (5, 1)]\n",
            "Order is 5\n"
          ]
        }
      ],
      "source": [
        "print(\"Degree is\", G.degree)\n",
        "print(\"Order is\", G.order())"
      ]
    },
    {
      "cell_type": "markdown",
      "metadata": {
        "id": "Qefm4OdaK54c"
      },
      "source": [
        "# Trees\n",
        "\n",
        "Using graphviz \n"
      ]
    },
    {
      "cell_type": "code",
      "execution_count": null,
      "metadata": {
        "colab": {
          "base_uri": "https://localhost:8080/",
          "height": 319
        },
        "id": "t9qSfQMFLNcj",
        "outputId": "4ec3cd1e-4ed6-49ab-93f6-4ce8fc6e7e3a"
      },
      "outputs": [
        {
          "output_type": "display_data",
          "data": {
            "text/plain": [
              "<Figure size 432x288 with 1 Axes>"
            ],
            "image/png": "[encoded data removed]"
          },
          "metadata": {}
        }
      ],
      "source": [
        "from networkx.drawing.nx_agraph import graphviz_layout\n",
        "G = nx.DiGraph()\n",
        "G.add_edges_from([(1,2),(1,3),(2,4),(2,5),(3,6),(3,7)])\n",
        "pos = graphviz_layout(G,prog='dot')\n",
        "nx.draw(G, pos=pos, with_labels=True, **options)"
      ]
    }
  ]
}