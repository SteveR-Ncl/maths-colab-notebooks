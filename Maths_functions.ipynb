{
  "nbformat": 4,
  "nbformat_minor": 0,
  "metadata": {
    "colab": {
      "name": "Maths-functions.ipynb",
      "provenance": [],
      "authorship_tag": "ABX9TyOUbJaLDYmbuujYp+F7eeXG",
      "include_colab_link": true
    },
    "kernelspec": {
      "name": "python3",
      "display_name": "Python 3"
    },
    "language_info": {
      "name": "python"
    }
  },
  "cells": [
    {
      "cell_type": "markdown",
      "metadata": {
        "id": "view-in-github",
        "colab_type": "text"
      },
      "source": [
        "<a href=\"https://colab.research.google.com/github/SteveR-Ncl/maths-colab-notebooks/blob/main/Maths_functions.ipynb\" target=\"_parent\"><img src=\"https://colab.research.google.com/assets/colab-badge.svg\" alt=\"Open In Colab\"/></a>"
      ]
    },
    {
      "cell_type": "markdown",
      "source": [
        "# Maths for Computing: Fundamentals\n",
        "\n",
        "## Plotting functions\n",
        "\n",
        "Begin with import of libraries"
      ],
      "metadata": {
        "id": "YbWKqy-Jaq28"
      }
    },
    {
      "cell_type": "code",
      "execution_count": null,
      "metadata": {
        "id": "ELYbAMKlBsgC"
      },
      "outputs": [],
      "source": [
        "import matplotlib as mpl\n",
        "import matplotlib.pyplot as plt\n",
        "import numpy as np\n",
        "import networkx as nx\n"
      ]
    },
    {
      "cell_type": "markdown",
      "metadata": {
        "id": "FvyLZf5ZiDD1"
      },
      "source": [
        "Now an example graph of $y=x^2$, or $y=x$, or $y=x^3$."
      ]
    },
    {
      "cell_type": "code",
      "execution_count": null,
      "metadata": {
        "colab": {
          "base_uri": "https://localhost:8080/",
          "height": 298
        },
        "id": "NooZofvdCa_R",
        "outputId": "a6cd0991-f03d-4b35-8347-0fbf108edb1e"
      },
      "outputs": [
        {
          "output_type": "execute_result",
          "data": {
            "text/plain": [
              "Text(0.5, 1.0, 'Line, Square or Cube ')"
            ]
          },
          "metadata": {},
          "execution_count": 23
        },
        {
          "output_type": "display_data",
          "data": {
            "text/plain": [
              "<Figure size 432x288 with 1 Axes>"
            ],
            "image/png": "[encoded data removed]"
          },
          "metadata": {
            "needs_background": "light"
          }
        }
      ],
      "source": [
        "#@title Pick the graph to generate { run: \"auto\" }\n",
        "yvalue = x #@param [\"x\", \"x**2\", \"x**3\"] {type:\"raw\"}\n",
        "\n",
        "x=np.linspace(-10,10,100)\n",
        "plt.plot(x, yvalue)\n",
        "plt.title(\"Line, Square or Cube \")\n"
      ]
    },
    {
      "cell_type": "markdown",
      "metadata": {
        "id": "VhwNK4NVf-RG"
      },
      "source": [
        "Some examples from notes: square root inverse, $y=1/\\sqrt(x+1)$\n",
        "\n",
        "Domain for this function is $(-1,\\infty ] $\n",
        "\n",
        "To avoid overflow in drawing the graph, we specify `endpoint=False` and write the interval as `5, -1` so that the endpoint is applied to `-1`."
      ]
    },
    {
      "cell_type": "markdown",
      "metadata": {
        "id": "4thK0_sZpKUr"
      },
      "source": [
        "Sketch a function "
      ]
    },
    {
      "cell_type": "code",
      "execution_count": null,
      "metadata": {
        "colab": {
          "base_uri": "https://localhost:8080/",
          "height": 302
        },
        "id": "uWt5kSEXpZ2E",
        "outputId": "ed676133-3782-4540-be68-7bdb8877aea8"
      },
      "outputs": [
        {
          "output_type": "execute_result",
          "data": {
            "text/plain": [
              "Text(0.5, 1.0, 'Sketched Graph $y=1+x^2$')"
            ]
          },
          "metadata": {},
          "execution_count": 13
        },
        {
          "output_type": "display_data",
          "data": {
            "text/plain": [
              "<Figure size 432x288 with 1 Axes>"
            ],
            "image/png": "[encoded data removed]"
          },
          "metadata": {
            "needs_background": "light"
          }
        }
      ],
      "source": [
        "x=np.linspace(-2,3,6)\n",
        "y=1+x**2\n",
        "x1=np.linspace(-2,3)\n",
        "y1=1+x1**2\n",
        "plt.plot(x1,y1)\n",
        "plt.plot(x,y,'o')\n",
        "plt.title(\"Sketched Graph $y=1+x^2$\")"
      ]
    }
  ]
}