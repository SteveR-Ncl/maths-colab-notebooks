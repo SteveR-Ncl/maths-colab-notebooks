{
  "cells": [
    {
      "cell_type": "markdown",
      "metadata": {
        "id": "view-in-github",
        "colab_type": "text"
      },
      "source": [
        "<a href=\"https://colab.research.google.com/github/SteveR-Ncl/maths-colab-notebooks/blob/main/Maths_graphs.ipynb\" target=\"_parent\"><img src=\"https://colab.research.google.com/assets/colab-badge.svg\" alt=\"Open In Colab\"/></a>"
      ]
    },
    {
      "cell_type": "markdown",
      "metadata": {
        "id": "7fgC1nyBcnEH"
      },
      "source": [
        "# Graphs"
      ]
    },
    {
      "cell_type": "code",
      "execution_count": 1,
      "metadata": {
        "id": "ELYbAMKlBsgC"
      },
      "outputs": [],
      "source": [
        "import matplotlib as mpl\n",
        "import matplotlib.pyplot as plt\n",
        "import numpy as np\n",
        "import networkx as nx\n"
      ]
    },
    {
      "cell_type": "markdown",
      "metadata": {
        "id": "xKqC4BJNledL"
      },
      "source": [
        "## Directed graph\n",
        "\n",
        "$ N=(1,2,3,4,5) $\n",
        "\n",
        "$ E=\\{(1,2) ,(1,3),(3,3),(4,2),(5,4),(4,3)\\} $\n",
        "\n"
      ]
    },
    {
      "cell_type": "markdown",
      "metadata": {
        "id": "5HUQUIlAk1Uz"
      },
      "source": [
        "Set up node options first"
      ]
    },
    {
      "cell_type": "code",
      "execution_count": 4,
      "metadata": {
        "id": "D5qj9XwSk_H2"
      },
      "outputs": [],
      "source": [
        "options = {\n",
        "    \"font_size\": 16,\n",
        "    \"node_size\": 600,\n",
        "    \"node_color\": \"white\",\n",
        "    \"edgecolors\": \"black\",\n",
        "    \"linewidths\": 2,\n",
        "    \"width\": 2,\n",
        "\n",
        "}"
      ]
    },
    {
      "cell_type": "code",
      "execution_count": 5,
      "metadata": {
        "colab": {
          "base_uri": "https://localhost:8080/",
          "height": 319
        },
        "id": "YFCg308UpcZS",
        "outputId": "188d1dfa-0357-4bbd-f543-f35745afdc02"
      },
      "outputs": [
        {
          "output_type": "display_data",
          "data": {
            "text/plain": [
              "<Figure size 432x288 with 1 Axes>"
            ],
            "image/png": "[encoded data removed]"
          },
          "metadata": {}
        }
      ],
      "source": [
        "G=nx.DiGraph()\n",
        "G.add_edges_from([(1,2),(1,3),(3,3),(4,2),(5,4),(4,3)])\n",
        "nx.draw_planar (G, with_labels=True, **options)\n",
        "\n",
        "# Set margins for the axes so that nodes aren't clipped\n",
        "ax = plt.gca()\n",
        "ax.margins(0.20)\n",
        "plt.axis(\"off\")\n",
        "plt.show()\n",
        "\n",
        "# From https://networkx.org/documentation/stable/auto_examples/basic/plot_simple_graph.html"
      ]
    },
    {
      "cell_type": "code",
      "execution_count": 6,
      "metadata": {
        "colab": {
          "base_uri": "https://localhost:8080/"
        },
        "id": "9giHFP__nfVf",
        "outputId": "a065024d-b456-4b29-e7dc-9a0b44e88144"
      },
      "outputs": [
        {
          "output_type": "stream",
          "name": "stdout",
          "text": [
            "Order is 5\n",
            "  Node    Degree\n",
            "------  --------\n",
            "     1         2\n",
            "     2         2\n",
            "     3         4\n",
            "     4         3\n",
            "     5         1\n"
          ]
        }
      ],
      "source": [
        "print(\"Order is\", G.order())\n",
        "\n",
        "from tabulate import tabulate\n",
        "print(tabulate(G.degree,headers = [\"Node\",\"Degree\"]))"
      ]
    },
    {
      "cell_type": "markdown",
      "metadata": {
        "id": "m354za8p--Xs"
      },
      "source": [
        "## Paths, Circuits, Cycles\n",
        "\n",
        "A **path** in a directed graph $G=(N,E)$ is a sequence of nodes $n_{0}n_{1}\\dots n_{k}$ such that $(n_{i},n_{i+1}) \\in E$ is an edge in the directed graph $G$ for each $i=0,\\ldots,k-1$\n",
        "\n",
        "* You can only go in the direction given by the edges\n",
        "* A path containing $k$ nodes has length $k-1$\n",
        "* A node by itself is a path of length 0"
      ]
    },
    {
      "cell_type": "markdown",
      "metadata": {
        "id": "t_nEL8opHMm1"
      },
      "source": [
        "For this graph:"
      ]
    },
    {
      "cell_type": "code",
      "execution_count": null,
      "metadata": {
        "colab": {
          "base_uri": "https://localhost:8080/",
          "height": 319
        },
        "id": "Ad6GYgJPHTQN",
        "outputId": "372d685f-be67-4b3b-dbeb-29430e1f4f6b"
      },
      "outputs": [
        {
          "data": {
            "image/png": "[encoded data removed]",
            "text/plain": [
              "<Figure size 432x288 with 1 Axes>"
            ]
          },
          "metadata": {},
          "output_type": "display_data"
        }
      ],
      "source": [
        "G=nx.DiGraph()\n",
        "G.add_edges_from([(2,1),(3,2),(3,3),(1,3),(1,4)])\n",
        "nx.draw_planar (G, with_labels=True, **options)\n",
        "\n"
      ]
    },
    {
      "cell_type": "code",
      "execution_count": null,
      "metadata": {
        "colab": {
          "base_uri": "https://localhost:8080/"
        },
        "id": "aJ9oTznyG6Wg",
        "outputId": "6e0e45f7-d78e-4c6a-e139-b5a64410bfce"
      },
      "outputs": [
        {
          "name": "stdout",
          "output_type": "stream",
          "text": [
            "True\n",
            "True\n",
            "False\n"
          ]
        }
      ],
      "source": [
        "# is_path from networkx library to check if path is valid\n",
        "print(nx.is_path(G,[1,3,3,3,2,1,4])) # valid\n",
        "print(nx.is_path(G,[3,2,1,3,2,1])) # valid\n",
        "print(nx.is_path(G,[2,1,3,3,2,3,2])) # not valid"
      ]
    },
    {
      "cell_type": "markdown",
      "metadata": {
        "id": "glzFVPkmC-dK"
      },
      "source": [
        "A **circuit** in a directed graph $G=(N,E)$ is a path $n_{0}n_{1}\\dots n_{k}$ whose start and end nodes are the same, i.e. $n_{0} = n_{k}$\n",
        "\n",
        "* So a **circuit** is a path where you end up where you started\n"
      ]
    },
    {
      "cell_type": "code",
      "execution_count": null,
      "metadata": {
        "id": "79fkkg-mIROX"
      },
      "outputs": [],
      "source": [
        "# use the is_path function to define is_circuit\n",
        "def is_circuit(G, nodes):\n",
        "  return nx.is_path(G, nodes) and nodes[0] == nodes[len(nodes) - 1]"
      ]
    },
    {
      "cell_type": "code",
      "execution_count": null,
      "metadata": {
        "colab": {
          "base_uri": "https://localhost:8080/"
        },
        "id": "EfXNbGSbJAKv",
        "outputId": "45759f03-7676-4a11-ae28-e8a1608ee887"
      },
      "outputs": [
        {
          "name": "stdout",
          "output_type": "stream",
          "text": [
            "True\n",
            "False\n"
          ]
        }
      ],
      "source": [
        "print(is_circuit(G,[2,1,3,3,3,2]))  # valid\n",
        "print(is_circuit(G,[2,1,3,2,1])) # not valid"
      ]
    },
    {
      "cell_type": "markdown",
      "metadata": {
        "id": "TYOxHBUdDgwC"
      },
      "source": [
        "A **cycle** in a directed graph $G=(N,E)$ is a circuit where you don't visit the same node twice\n",
        "\n",
        "* Every cycle is also a circuit\n",
        "* Cycle → Circuit → Path"
      ]
    },
    {
      "cell_type": "code",
      "execution_count": null,
      "metadata": {
        "id": "mHcGx8AjCADa"
      },
      "outputs": [],
      "source": [
        "# a cycle is a circuit that's also a simple path.. except that the first and last nodes are the same!\n",
        "def is_cycle(G, nodes):\n",
        "  return len(set(nodes)) == len(nodes) - 1 and is_circuit(G, nodes) # means there is exactly 1 duplicate, and the duplicate is the first/last node"
      ]
    },
    {
      "cell_type": "code",
      "execution_count": null,
      "metadata": {
        "colab": {
          "base_uri": "https://localhost:8080/"
        },
        "id": "SO5wNp7XK0wy",
        "outputId": "4b05b3b9-4424-43d4-b87a-abcf51a6abb7"
      },
      "outputs": [
        {
          "name": "stdout",
          "output_type": "stream",
          "text": [
            "True\n",
            "False\n",
            "False\n"
          ]
        }
      ],
      "source": [
        "print(is_cycle(G,[2,1,3,2])) # yes\n",
        "print(is_cycle(G,[2,1,3,3,2])) # no\n",
        "print(is_cycle(G,[2,1,3,2,1,3,2])) # no"
      ]
    },
    {
      "cell_type": "markdown",
      "metadata": {
        "id": "mIDzD2xFp9tF"
      },
      "source": [
        "## Subgraphs\n",
        "Given graphs $G=(N,E)$ and $G'=(N',E')$, we say $G$ is a subgraph of $G'$ if and only if $N \\subseteq N'$ and $E ⊆ E'$\n",
        "\n",
        "Networkx library has a function `subgraph` to generate subgraph from list of nodes"
      ]
    },
    {
      "cell_type": "code",
      "execution_count": null,
      "metadata": {
        "colab": {
          "base_uri": "https://localhost:8080/",
          "height": 621
        },
        "id": "EdXURDIXYOZZ",
        "outputId": "cdf868e8-4dac-404c-efc8-de288760be52"
      },
      "outputs": [
        {
          "data": {
            "image/png": "[encoded data removed]",
            "text/plain": [
              "<Figure size 432x288 with 1 Axes>"
            ]
          },
          "metadata": {},
          "output_type": "display_data"
        },
        {
          "data": {
            "image/png": "[encoded data removed]",
            "text/plain": [
              "<Figure size 432x288 with 1 Axes>"
            ]
          },
          "metadata": {},
          "output_type": "display_data"
        }
      ],
      "source": [
        "G = nx.DiGraph()\n",
        "G.add_edges_from([(1,3),(2,1),(3,2),(3,5),(4,2),(5,4),(5,1)])\n",
        "G1 = G.subgraph([1,2,3])\n",
        "\n",
        "nx.draw_planar (G, with_labels=True, **options)\n",
        "\n",
        "plt.show()\n",
        "\n",
        "nx.draw_planar (G1, with_labels=True, **options)\n",
        "plt.show()"
      ]
    },
    {
      "cell_type": "markdown",
      "metadata": {
        "id": "KZm3mPjJlno6"
      },
      "source": [
        "## Hamiltonian paths and graphs\n",
        "\n",
        "A **Hamiltonian path** in a graph is one which includes all the nodes in the graph. Similarly for a Hamiltonian cycle.\n",
        "\n",
        "If a graph has a Hamiltonian cycle, it is a **Hamiltonian graph**"
      ]
    },
    {
      "cell_type": "code",
      "execution_count": 7,
      "metadata": {
        "id": "TCcoGWr0nGSg"
      },
      "outputs": [],
      "source": [
        "# networkx has a function to generate a hamiltonian path but takes a tournament \n",
        "# as input. ie exactly one path between each pair of connected nodes \n",
        "# is_hamiltonian_path needs to check is_path and contains all nodes: order of graph\n",
        "# gives number of nodes, len set nodes is number of distinct nodes in path\n",
        "def is_hamiltonian_path(G, nodes):\n",
        "  return(nx.is_path(G, nodes) and len(set(nodes) == G.order()))\n",
        "\n",
        "def is_hamiltonian_cycle(G, nodes):\n",
        "  return(is_cycle(G, nodes) and len(set(nodes) == G.order()))\n",
        "\n",
        "# A function to check if a graph is Hamiltonian can be specified as\n",
        "# exists p:Path & (all n in p are nodes in G) and is_hamiltonian_cycle(G,p)\n",
        "# implement by enumerating all paths in G and checking for 1 being hamiltonian cycle"
      ]
    },
    {
      "cell_type": "markdown",
      "source": [
        "## Adjacency Matrix\n",
        "Given a graph with $n$ nodes, an **adjacency matrix** $M$ is an $n$ by $n$ matrix where:\n",
        "* we represent a directed edge from node $i$ to node $j$ by setting the entry at row $i$ and column $j$ in $M$ to the value $1$. \n",
        "* if no edge exists from node $i$ to node $j$ then the entry at $(i,j)$ is set to $0$.\n",
        "\n",
        "\n",
        "Example:\n",
        "\n",
        " | |1|2|3|4\n",
        " | --- | --- | --- | --- | --- \n",
        "**1**|0|0|1|0\n",
        "**2**|0|0|1|1\n",
        "**3**|1|1|0|1\n",
        "**4**|1|0|0|1\n",
        "\n",
        "\n"
      ],
      "metadata": {
        "id": "XY7ytD6hMTTe"
      }
    },
    {
      "cell_type": "code",
      "source": [
        "A = np.array([[0,0,1,0], [0,0,1,1],[1,1,0,1],[1,0,0,1]])\n",
        "G = nx.from_numpy_matrix(A, create_using=nx.DiGraph)\n",
        "nx.draw_planar (G, with_labels=True, **options)\n",
        "## only problem with this is of course that the matrix is 0-indexed so nodes are labelled 0-3"
      ],
      "metadata": {
        "colab": {
          "base_uri": "https://localhost:8080/",
          "height": 319
        },
        "id": "VFnjepQ4PWP1",
        "outputId": "bd31e352-91b9-489d-a02f-76e393958b8d"
      },
      "execution_count": 9,
      "outputs": [
        {
          "output_type": "display_data",
          "data": {
            "text/plain": [
              "<Figure size 432x288 with 1 Axes>"
            ],
            "image/png": "[encoded data removed]"
          },
          "metadata": {}
        }
      ]
    },
    {
      "cell_type": "markdown",
      "metadata": {
        "id": "Qefm4OdaK54c"
      },
      "source": [
        "# Trees\n",
        "\n",
        "Using graphviz and pygraphviz\n"
      ]
    },
    {
      "cell_type": "code",
      "execution_count": null,
      "metadata": {
        "id": "jaIfLOKgjJg4"
      },
      "outputs": [],
      "source": [
        "import graphviz\n",
        "!apt install libgraphviz-dev\n",
        "!pip install pygraphviz"
      ]
    },
    {
      "cell_type": "code",
      "execution_count": null,
      "metadata": {
        "colab": {
          "base_uri": "https://localhost:8080/",
          "height": 319
        },
        "id": "t9qSfQMFLNcj",
        "outputId": "ac354f53-ddf0-498d-9928-6d0b242af8e3"
      },
      "outputs": [
        {
          "data": {
            "image/png": "[encoded data removed]",
            "text/plain": [
              "<Figure size 432x288 with 1 Axes>"
            ]
          },
          "metadata": {},
          "output_type": "display_data"
        }
      ],
      "source": [
        "from networkx.drawing.nx_agraph import graphviz_layout\n",
        "G = nx.DiGraph()\n",
        "G.add_edges_from([(5,2),(5,3),(2,4),(2,1),(1,6),(1,7)])\n",
        "pos = graphviz_layout(G,prog='dot')\n",
        "nx.draw(G, pos=pos, with_labels=True, **options)"
      ]
    }
  ],
  "metadata": {
    "colab": {
      "collapsed_sections": [],
      "name": "Maths-graphs.ipynb",
      "provenance": [],
      "toc_visible": true,
      "include_colab_link": true
    },
    "kernelspec": {
      "display_name": "Python 3 (ipykernel)",
      "language": "python",
      "name": "python3"
    },
    "language_info": {
      "codemirror_mode": {
        "name": "ipython",
        "version": 3
      },
      "file_extension": ".py",
      "mimetype": "text/x-python",
      "name": "python",
      "nbconvert_exporter": "python",
      "pygments_lexer": "ipython3",
      "version": "3.8.13"
    }
  },
  "nbformat": 4,
  "nbformat_minor": 0
}