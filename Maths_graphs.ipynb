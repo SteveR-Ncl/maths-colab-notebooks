{
  "nbformat": 4,
  "nbformat_minor": 0,
  "metadata": {
    "colab": {
      "name": "Maths-graphs.ipynb",
      "provenance": [],
      "collapsed_sections": [],
      "authorship_tag": "ABX9TyPDYv9l6ojubYoJXyVfepey",
      "include_colab_link": true
    },
    "kernelspec": {
      "name": "python3",
      "display_name": "Python 3"
    },
    "language_info": {
      "name": "python"
    }
  },
  "cells": [
    {
      "cell_type": "markdown",
      "metadata": {
        "id": "view-in-github",
        "colab_type": "text"
      },
      "source": [
        "<a href=\"https://colab.research.google.com/github/SteveR-Ncl/maths-colab-notebooks/blob/main/Maths_graphs.ipynb\" target=\"_parent\"><img src=\"https://colab.research.google.com/assets/colab-badge.svg\" alt=\"Open In Colab\"/></a>"
      ]
    },
    {
      "cell_type": "markdown",
      "source": [
        "# Graphs"
      ],
      "metadata": {
        "id": "7fgC1nyBcnEH"
      }
    },
    {
      "cell_type": "code",
      "source": [
        "!apt install libgraphviz-dev\n",
        "!pip install pygraphviz"
      ],
      "metadata": {
        "id": "jaIfLOKgjJg4",
        "colab": {
          "base_uri": "https://localhost:8080/"
        },
        "outputId": "9e3e1d81-6496-400e-be3b-8fd9719ad487"
      },
      "execution_count": 3,
      "outputs": [
        {
          "output_type": "stream",
          "name": "stdout",
          "text": [
            "Reading package lists... Done\n",
            "Building dependency tree       \n",
            "Reading state information... Done\n",
            "The following package was automatically installed and is no longer required:\n",
            "  libnvidia-common-460\n",
            "Use 'apt autoremove' to remove it.\n",
            "The following additional packages will be installed:\n",
            "  libgail-common libgail18 libgtk2.0-0 libgtk2.0-bin libgtk2.0-common\n",
            "  libgvc6-plugins-gtk libxdot4\n",
            "Suggested packages:\n",
            "  gvfs\n",
            "The following NEW packages will be installed:\n",
            "  libgail-common libgail18 libgraphviz-dev libgtk2.0-0 libgtk2.0-bin\n",
            "  libgtk2.0-common libgvc6-plugins-gtk libxdot4\n",
            "0 upgraded, 8 newly installed, 0 to remove and 49 not upgraded.\n",
            "Need to get 2,120 kB of archives.\n",
            "After this operation, 7,128 kB of additional disk space will be used.\n",
            "Get:1 http://archive.ubuntu.com/ubuntu bionic/main amd64 libgtk2.0-common all 2.24.32-1ubuntu1 [125 kB]\n",
            "Get:2 http://archive.ubuntu.com/ubuntu bionic/main amd64 libgtk2.0-0 amd64 2.24.32-1ubuntu1 [1,769 kB]\n",
            "Get:3 http://archive.ubuntu.com/ubuntu bionic/main amd64 libgail18 amd64 2.24.32-1ubuntu1 [14.2 kB]\n",
            "Get:4 http://archive.ubuntu.com/ubuntu bionic/main amd64 libgail-common amd64 2.24.32-1ubuntu1 [112 kB]\n",
            "Get:5 http://archive.ubuntu.com/ubuntu bionic/universe amd64 libxdot4 amd64 2.40.1-2 [15.7 kB]\n",
            "Get:6 http://archive.ubuntu.com/ubuntu bionic/universe amd64 libgvc6-plugins-gtk amd64 2.40.1-2 [18.2 kB]\n",
            "Get:7 http://archive.ubuntu.com/ubuntu bionic/universe amd64 libgraphviz-dev amd64 2.40.1-2 [57.3 kB]\n",
            "Get:8 http://archive.ubuntu.com/ubuntu bionic/main amd64 libgtk2.0-bin amd64 2.24.32-1ubuntu1 [7,536 B]\n",
            "Fetched 2,120 kB in 1s (1,748 kB/s)\n",
            "Selecting previously unselected package libgtk2.0-common.\n",
            "(Reading database ... 155653 files and directories currently installed.)\n",
            "Preparing to unpack .../0-libgtk2.0-common_2.24.32-1ubuntu1_all.deb ...\n",
            "Unpacking libgtk2.0-common (2.24.32-1ubuntu1) ...\n",
            "Selecting previously unselected package libgtk2.0-0:amd64.\n",
            "Preparing to unpack .../1-libgtk2.0-0_2.24.32-1ubuntu1_amd64.deb ...\n",
            "Unpacking libgtk2.0-0:amd64 (2.24.32-1ubuntu1) ...\n",
            "Selecting previously unselected package libgail18:amd64.\n",
            "Preparing to unpack .../2-libgail18_2.24.32-1ubuntu1_amd64.deb ...\n",
            "Unpacking libgail18:amd64 (2.24.32-1ubuntu1) ...\n",
            "Selecting previously unselected package libgail-common:amd64.\n",
            "Preparing to unpack .../3-libgail-common_2.24.32-1ubuntu1_amd64.deb ...\n",
            "Unpacking libgail-common:amd64 (2.24.32-1ubuntu1) ...\n",
            "Selecting previously unselected package libxdot4.\n",
            "Preparing to unpack .../4-libxdot4_2.40.1-2_amd64.deb ...\n",
            "Unpacking libxdot4 (2.40.1-2) ...\n",
            "Selecting previously unselected package libgvc6-plugins-gtk.\n",
            "Preparing to unpack .../5-libgvc6-plugins-gtk_2.40.1-2_amd64.deb ...\n",
            "Unpacking libgvc6-plugins-gtk (2.40.1-2) ...\n",
            "Selecting previously unselected package libgraphviz-dev.\n",
            "Preparing to unpack .../6-libgraphviz-dev_2.40.1-2_amd64.deb ...\n",
            "Unpacking libgraphviz-dev (2.40.1-2) ...\n",
            "Selecting previously unselected package libgtk2.0-bin.\n",
            "Preparing to unpack .../7-libgtk2.0-bin_2.24.32-1ubuntu1_amd64.deb ...\n",
            "Unpacking libgtk2.0-bin (2.24.32-1ubuntu1) ...\n",
            "Setting up libgtk2.0-common (2.24.32-1ubuntu1) ...\n",
            "Setting up libxdot4 (2.40.1-2) ...\n",
            "Setting up libgtk2.0-0:amd64 (2.24.32-1ubuntu1) ...\n",
            "Setting up libgail18:amd64 (2.24.32-1ubuntu1) ...\n",
            "Setting up libgail-common:amd64 (2.24.32-1ubuntu1) ...\n",
            "Setting up libgvc6-plugins-gtk (2.40.1-2) ...\n",
            "Setting up libgraphviz-dev (2.40.1-2) ...\n",
            "Setting up libgtk2.0-bin (2.24.32-1ubuntu1) ...\n",
            "Processing triggers for man-db (2.8.3-2ubuntu0.1) ...\n",
            "Processing triggers for libc-bin (2.27-3ubuntu1.3) ...\n",
            "/sbin/ldconfig.real: /usr/local/lib/python3.7/dist-packages/ideep4py/lib/libmkldnn.so.0 is not a symbolic link\n",
            "\n",
            "Looking in indexes: https://pypi.org/simple, https://us-python.pkg.dev/colab-wheels/public/simple/\n",
            "Collecting pygraphviz\n",
            "  Downloading pygraphviz-1.7.zip (118 kB)\n",
            "\u001b[K     |████████████████████████████████| 118 kB 5.2 MB/s \n",
            "\u001b[?25hBuilding wheels for collected packages: pygraphviz\n",
            "  Building wheel for pygraphviz (setup.py) ... \u001b[?25l\u001b[?25hdone\n",
            "  Created wheel for pygraphviz: filename=pygraphviz-1.7-cp37-cp37m-linux_x86_64.whl size=165764 sha256=b36789814fc2ba412b4829ebc2ee4dea8d860c4f125fa209d8c2e6bbdcd552fc\n",
            "  Stored in directory: /root/.cache/pip/wheels/8c/bc/0c/ac35392b72556e75107ff610cb31b313e8471918a6d280e34c\n",
            "Successfully built pygraphviz\n",
            "Installing collected packages: pygraphviz\n",
            "Successfully installed pygraphviz-1.7\n"
          ]
        }
      ]
    },
    {
      "cell_type": "code",
      "execution_count": 4,
      "metadata": {
        "id": "ELYbAMKlBsgC"
      },
      "outputs": [],
      "source": [
        "import matplotlib as mpl\n",
        "import matplotlib.pyplot as plt\n",
        "import numpy as np\n",
        "import networkx as nx\n",
        "import graphviz\n"
      ]
    },
    {
      "cell_type": "markdown",
      "metadata": {
        "id": "xKqC4BJNledL"
      },
      "source": [
        "## Sketch a directed graph:\n",
        "\n",
        "$ N=(1,2,3,4,5) $\n",
        "\n",
        "$ E=\\{(1,2) ,(1,3),(3,3),(4,2),(5,4),(4,3)\\} $\n",
        "\n"
      ]
    },
    {
      "cell_type": "markdown",
      "metadata": {
        "id": "5HUQUIlAk1Uz"
      },
      "source": [
        "Set up node options first"
      ]
    },
    {
      "cell_type": "code",
      "execution_count": 5,
      "metadata": {
        "id": "D5qj9XwSk_H2"
      },
      "outputs": [],
      "source": [
        "options = {\n",
        "    \"font_size\": 16,\n",
        "    \"node_size\": 600,\n",
        "    \"node_color\": \"white\",\n",
        "    \"edgecolors\": \"black\",\n",
        "    \"linewidths\": 2,\n",
        "    \"width\": 2,\n",
        "\n",
        "}"
      ]
    },
    {
      "cell_type": "code",
      "execution_count": 6,
      "metadata": {
        "colab": {
          "base_uri": "https://localhost:8080/",
          "height": 319
        },
        "id": "YFCg308UpcZS",
        "outputId": "092bfc65-99a0-435b-c4d4-fb05b9ccd203"
      },
      "outputs": [
        {
          "output_type": "display_data",
          "data": {
            "text/plain": [
              "<Figure size 432x288 with 1 Axes>"
            ],
            "image/png": "[encoded data removed]"
          },
          "metadata": {}
        }
      ],
      "source": [
        "G=nx.DiGraph()\n",
        "G.add_edges_from([(1,2),(1,3),(3,3),(4,2),(5,4),(4,3)])\n",
        "nx.draw_planar (G, with_labels=True, **options)\n",
        "\n",
        "# Set margins for the axes so that nodes aren't clipped\n",
        "ax = plt.gca()\n",
        "ax.margins(0.20)\n",
        "plt.axis(\"off\")\n",
        "plt.show()\n",
        "\n",
        "# From https://networkx.org/documentation/stable/auto_examples/basic/plot_simple_graph.html"
      ]
    },
    {
      "cell_type": "code",
      "execution_count": 21,
      "metadata": {
        "colab": {
          "base_uri": "https://localhost:8080/"
        },
        "id": "9giHFP__nfVf",
        "outputId": "2fc3737b-e04b-41cc-87cb-9b87ca09a732"
      },
      "outputs": [
        {
          "output_type": "stream",
          "name": "stdout",
          "text": [
            "Order is 4\n",
            "  Node    Degree\n",
            "------  --------\n",
            "     2         2\n",
            "     1         3\n",
            "     3         4\n",
            "     4         1\n"
          ]
        }
      ],
      "source": [
        "print(\"Order is\", G.order())\n",
        "\n",
        "from tabulate import tabulate\n",
        "print(tabulate(G.degree,headers = [\"Node\",\"Degree\"]))"
      ]
    },
    {
      "cell_type": "markdown",
      "source": [
        "## Paths, Circuits, Cycles\n",
        "\n",
        "A **path** in a directed graph $G=(N,E)$ is a sequence of nodes $n_{0}n_{1}\\dots n_{k}$ such that $(n_{i},n_{i+1}) \\in E$ is an edge in the directed graph $G$ for each $i=0,\\ldots,k-1$\n",
        "\n",
        "* You can only go in the direction given by the edges\n",
        "* A path containing $k$ nodes has length $k-1$\n",
        "* A node by itself is a path of length 0"
      ],
      "metadata": {
        "id": "m354za8p--Xs"
      }
    },
    {
      "cell_type": "markdown",
      "source": [
        "For this graph:"
      ],
      "metadata": {
        "id": "t_nEL8opHMm1"
      }
    },
    {
      "cell_type": "code",
      "source": [
        "G=nx.DiGraph()\n",
        "G.add_edges_from([(2,1),(3,2),(3,3),(1,3),(1,4)])\n",
        "nx.draw_planar (G, with_labels=True, **options)\n",
        "\n",
        "# Set margins for the axes so that nodes aren't clipped\n",
        "ax = plt.gca()\n",
        "ax.margins(0.20)\n",
        "plt.axis(\"off\")\n",
        "plt.show()"
      ],
      "metadata": {
        "colab": {
          "base_uri": "https://localhost:8080/",
          "height": 319
        },
        "id": "Ad6GYgJPHTQN",
        "outputId": "23fbeafc-3a35-41b2-d1e7-2c04345d654e"
      },
      "execution_count": 17,
      "outputs": [
        {
          "output_type": "display_data",
          "data": {
            "text/plain": [
              "<Figure size 432x288 with 1 Axes>"
            ],
            "image/png": "[encoded data removed]"
          },
          "metadata": {}
        }
      ]
    },
    {
      "cell_type": "code",
      "source": [
        "# networkx function is_simple_path actually identifies a path with no repeating nodes\n",
        "nx.is_simple_path(G,[1,3,3,3,2,1,4])"
      ],
      "metadata": {
        "colab": {
          "base_uri": "https://localhost:8080/"
        },
        "id": "nUuNk_aOER4_",
        "outputId": "2c45a7c6-b72c-43ca-d73f-1c268bd9b11c"
      },
      "execution_count": 18,
      "outputs": [
        {
          "output_type": "execute_result",
          "data": {
            "text/plain": [
              "False"
            ]
          },
          "metadata": {},
          "execution_count": 18
        }
      ]
    },
    {
      "cell_type": "code",
      "source": [
        "# so we write a version of is_simple_path which doesn't check for repeats\n",
        "from networkx.utils import pairwise\n",
        "\n",
        "def is_path(G, nodes):\n",
        "    # The empty list is not a valid path. Could also return\n",
        "    # NetworkXPointlessConcept here.\n",
        "    if len(nodes) == 0:\n",
        "        return False\n",
        "    # If the list is a single node, just check that the node is actually\n",
        "    # in the graph.\n",
        "    if len(nodes) == 1:\n",
        "        return nodes[0] in G\n",
        "    # Test that each adjacent pair of nodes is adjacent.\n",
        "    return all(v in G[u] for u, v in pairwise(nodes))"
      ],
      "metadata": {
        "id": "M4mE7pVUGRfe"
      },
      "execution_count": 15,
      "outputs": []
    },
    {
      "cell_type": "code",
      "source": [
        "# Try again with new function \n",
        "print(is_path(G,[1,3,3,3,2,1,4])) # valid\n",
        "print(is_path(G,[3,2,1,3,2,1])) # valid\n",
        "print(is_path(G,[2,1,3,3,2,3,2])) # not valid"
      ],
      "metadata": {
        "colab": {
          "base_uri": "https://localhost:8080/"
        },
        "outputId": "74cc32b5-0c34-4d18-9831-ce09624c5dd1",
        "id": "aJ9oTznyG6Wg"
      },
      "execution_count": 22,
      "outputs": [
        {
          "output_type": "stream",
          "name": "stdout",
          "text": [
            "True\n",
            "True\n",
            "False\n"
          ]
        }
      ]
    },
    {
      "cell_type": "markdown",
      "source": [
        "A **circuit** in a directed graph $G=(N,E)$ is a path $n_{0}n_{1}\\dots n_{k}$ whose start and end nodes are the same, i.e. $n_{0} = n_{k}$\n",
        "\n",
        "* So a **circuit** is a path where you end up where you started\n"
      ],
      "metadata": {
        "id": "glzFVPkmC-dK"
      }
    },
    {
      "cell_type": "code",
      "source": [
        "# use the previous is_path function to define is_circuit\n",
        "def is_circuit(G, nodes):\n",
        "  return is_path(G, nodes) and nodes[0] == nodes[len(nodes) - 1]"
      ],
      "metadata": {
        "id": "79fkkg-mIROX"
      },
      "execution_count": 31,
      "outputs": []
    },
    {
      "cell_type": "code",
      "source": [
        "print(is_circuit(G,[2,1,3,3,3,2]))  # valid\n",
        "print(is_circuit(G,[2,1,3,2,1])) # not valid"
      ],
      "metadata": {
        "colab": {
          "base_uri": "https://localhost:8080/"
        },
        "id": "EfXNbGSbJAKv",
        "outputId": "1489f7ce-f4ce-44b3-93d0-69b33ea09ea4"
      },
      "execution_count": 32,
      "outputs": [
        {
          "output_type": "stream",
          "name": "stdout",
          "text": [
            "True\n",
            "False\n"
          ]
        }
      ]
    },
    {
      "cell_type": "markdown",
      "source": [
        "A **cycle** in a directed graph $G=(N,E)$ is a circuit where you don't visit the same node twice\n",
        "\n",
        "* Every cycle is also a circuit\n",
        "* Cycle → Circuit → Path"
      ],
      "metadata": {
        "id": "TYOxHBUdDgwC"
      }
    },
    {
      "cell_type": "code",
      "source": [
        "# a cycle is a circuit that's also a simple path.. except that the first and last nodes are the same!\n",
        "def is_cycle(G, nodes):\n",
        "  return len(set(nodes)) == len(nodes) - 1 and is_circuit(G, nodes) # means there is exactly 1 duplicate, and the duplicate is the first/last node"
      ],
      "metadata": {
        "id": "mHcGx8AjCADa"
      },
      "execution_count": 36,
      "outputs": []
    },
    {
      "cell_type": "code",
      "source": [
        "print(is_cycle(G,[2,1,3,2])) # yes\n",
        "print(is_cycle(G,[2,1,3,3,2])) # no\n",
        "print(is_cycle(G,[2,1,3,2,1,3,2])) # no"
      ],
      "metadata": {
        "colab": {
          "base_uri": "https://localhost:8080/"
        },
        "id": "SO5wNp7XK0wy",
        "outputId": "7801191c-828d-4079-8f23-c4044eaacd61"
      },
      "execution_count": 37,
      "outputs": [
        {
          "output_type": "stream",
          "name": "stdout",
          "text": [
            "True\n",
            "False\n",
            "False\n"
          ]
        }
      ]
    },
    {
      "cell_type": "markdown",
      "metadata": {
        "id": "Qefm4OdaK54c"
      },
      "source": [
        "# Trees\n",
        "\n",
        "Using graphviz \n"
      ]
    },
    {
      "cell_type": "code",
      "execution_count": null,
      "metadata": {
        "colab": {
          "base_uri": "https://localhost:8080/",
          "height": 319
        },
        "id": "t9qSfQMFLNcj",
        "outputId": "4ec3cd1e-4ed6-49ab-93f6-4ce8fc6e7e3a"
      },
      "outputs": [
        {
          "output_type": "display_data",
          "data": {
            "text/plain": [
              "<Figure size 432x288 with 1 Axes>"
            ],
            "image/png": "[encoded data removed]"
          },
          "metadata": {}
        }
      ],
      "source": [
        "from networkx.drawing.nx_agraph import graphviz_layout\n",
        "G = nx.DiGraph()\n",
        "G.add_edges_from([(1,2),(1,3),(2,4),(2,5),(3,6),(3,7)])\n",
        "pos = graphviz_layout(G,prog='dot')\n",
        "nx.draw(G, pos=pos, with_labels=True, **options)"
      ]
    }
  ]
}